{
  "nbformat": 4,
  "nbformat_minor": 0,
  "metadata": {
    "colab": {
      "provenance": []
    },
    "kernelspec": {
      "name": "python3",
      "display_name": "Python 3"
    },
    "language_info": {
      "name": "python"
    }
  },
  "cells": [
    {
      "cell_type": "markdown",
      "source": [
        "Q 1: What is a random variable in probability theory?\n",
        "- In probability theory, a random variable is a variable whose value is a numerical outcome of a random phenomenon. It's a function that assigns a numerical value to each possible outcome of a random experiment. Think of it as a way to quantify the results of a random event.\n",
        "\n",
        "Q 2: What are the types of random variables?\n",
        "- There are two main types of random variables: discrete and continuous. Discrete random variables can only take on a finite number of values or a countably infinite number of values, often integers. Continuous random variables, on the other hand, can take on any value within a given range or interval.\n",
        "\n",
        "Q 3: What is the difference between discrete and continuous distributions ?\n",
        "- The main difference between discrete and continuous distributions lies in the nature of the variable they describe. Discrete distributions deal with countable, separate values, while continuous distributions deal with variables that can take on any value within a given range.\n",
        "\n",
        "Q 4: What are probability distribution functions (PDF) ?\n",
        "- A probability distribution function (PDF) describes the likelihood of different outcomes for a continuous random variable. It essentially tells you how probable it is to find the variable within a specific range of values. For continuous variables, the PDF is a function that gives a value for the probability density at each point, and the probability of the variable falling within an interval is found by integrating the PDF over that interval.\n",
        "\n",
        "Q 5: How do cumulative distribution functions (CDF) differ from probability distribution functions (PDF)?\n",
        "- The Probability Density Function (PDF) and Cumulative Distribution Function (CDF) are both ways to describe the distribution of a random variable, but they represent different aspects. The PDF gives the probability density at a specific value, while the CDF gives the probability that the random variable is less than or equal to a specific value.\n",
        "\n",
        "Q 6: What is a discrete uniform distribution?\n",
        "- A discrete uniform distribution is a probability distribution where a finite number of outcomes are all equally likely to occur. It's a simple distribution where each possible value within a defined range has the same probability of being selected.\n",
        "\n",
        "Q 7: What are the key properties of a Bernoulli distribution ?\n",
        "- A Bernoulli distribution is a discrete probability distribution representing a single trial with two possible outcomes: success (1) or failure (0). Key properties include a single parameter 'p' representing the probability of success, independence of trials, and that it's a discrete, univariate distribution.\n",
        "\n",
        "Q 8: What is the binomial distribution, and how is it used in probability ?\n",
        "- The binomial distribution is a discrete probability distribution that models the probability of achieving a specific number of successes in a fixed number of independent trials, where each trial has only two possible outcomes (success or failure). It's frequently used to analyze scenarios like coin flips, quality control, and survey responses, where the outcome of each trial is binary.\n",
        "\n",
        "Q 9: What is the Poisson distribution and where is it applied ?\n",
        "- The Poisson distribution is a discrete probability distribution that expresses the probability of a given number of events occurring in a fixed interval of time or space if these events occur with a known constant mean rate and independently of the time since the last event.\n",
        "\n",
        "Q 10: What is a continuous uniform distribution ?\n",
        "- A continuous uniform distribution is a probability distribution where a continuous random variable has an equal probability of taking any value within a specified range [a, b]. This means the probability density function (PDF) is constant within that range and zero outside of it. Essentially, every outcome within the range is equally likely to occur.\n",
        "\n",
        "Q 11: What are the characteristics of a normal distribution ?\n",
        "- A normal distribution, also known as a Gaussian distribution or bell curve, is characterized by several key features. It's symmetric around its mean, meaning the left and right sides of the curve are mirror images. The mean, median, and mode are all equal, and located at the center of the distribution. The curve is bell-shaped, with the highest point at the mean and tapering off equally in both directions. Furthermore, the total area under the curve equals 1, and the distribution is fully defined by its mean and standard deviation.\n",
        "\n",
        "Q 12: What is the standard normal distribution, and why is it important ?\n",
        "- The standard normal distribution is a specific type of normal distribution where the mean is 0 and the standard deviation is 1. It's a crucial concept in statistics because it allows us to compare data from different normal distributions and calculate probabilities related to those distributions.\n",
        "\n",
        "Q 13: What is the Central Limit Theorem (CLT), and why is it critical in statistics ?\n",
        "- The Central Limit Theorem (CLT) states that the distribution of sample means will approximate a normal distribution, regardless of the original population's distribution, as long as the sample size is sufficiently large. This is critical in statistics because it allows us to make inferences about population parameters (like the mean) using sample data, even when the population distribution is unknown or non-normal.\n",
        "\n",
        "Q 14: How does the Central Limit Theorem relate to the normal distribution ?\n",
        "- The central limit theorem (CLT) explains the relationship between the normal distribution and sample means. It states that the distribution of sample means will approach a normal distribution, regardless of the shape of the original population distribution, as the sample size gets larger. In essence, the CLT provides a powerful tool for understanding and working with data by connecting the concept of sample means to the well-understood properties of the normal distribution.\n",
        "Q 15: What is the application of Z statistics in hypothesis testing ?\n",
        "- Z-statistics, calculated using a Z-test, are applied in hypothesis testing to determine if there's a significant difference between a sample's mean and a population's mean, or between the means of two independent samples. This is particularly useful when the population variance is known, or when dealing with large sample sizes (typically n ≥ 30).\n",
        "\n",
        "Q 16: How do you calculate a Z-score, and what does it represent ?\n",
        "- A z-score, also known as a standard score, indicates how many standard deviations a data point is away from the mean of a distribution. It's calculated by subtracting the mean from the individual data point and then dividing by the standard deviation.\n",
        "\n",
        "Q 17: What are point estimates and interval estimates in statistics ?\n",
        "- In statistics, point estimates and interval estimates are two fundamental ways to estimate unknown population parameters using sample data. Point estimates provide a single value as the best guess, while interval estimates provide a range of values within which the parameter is likely to fall.\n",
        "\n",
        "Q 18: What is the significance of confidence intervals in statistical analysis ?\n",
        "- Confidence intervals in statistical analysis are crucial because they provide a range of plausible values for an unknown population parameter, offering a more informative measure of uncertainty than a single point estimate. They help researchers understand the reliability and precision of their estimates, guiding them in making data-driven decisions.\n",
        "\n",
        "Q 19: What is the relationship between a Z-score and a confidence interval ?\n",
        "- A Z-score and a confidence interval are related through their connection to the standard normal distribution. The Z-score indicates how many standard deviations a data point is from the mean, while a confidence interval provides a range of values likely to contain the true population parameter. The Z-score is used to calculate the margin of error, which defines the width of the confidence interval.\n",
        "\n",
        "Q 20: How are Z-scores used to compare different distributions ?\n",
        "- Z-scores are used to compare data from different distributions by standardizing the values. This means converting raw scores into a common scale based on standard deviations from the mean, allowing for direct comparison regardless of the original scale. A Z-score indicates how many standard deviations a data point is away from the mean of its distribution.\n",
        "\n",
        "Q 21: What are the assumptions for applying the Central Limit Theorem ?\n",
        "- The Central Limit Theorem (CLT) requires a few key assumptions to be met for the sampling distribution of sample means to approximate a normal distribution. These include: random sampling, independence of samples, a sufficiently large sample size, and sometimes, that the sample size is less than 10% of the population when sampling without replacement.\n",
        "\n",
        "Q 22: What is the concept of expected value in a probability distribution ?\n",
        "- The expected value in a probability distribution represents the long-run average outcome of a random variable. It's a weighted average of all possible values, where each value is weighted by its corresponding probability. Essentially, it tells you what you can \"expect\" to see, on average, if you repeat an experiment many times.\n",
        "\n",
        "Q 23: How does a probability distribution relate to the expected outcome of a random variable ?\n",
        "- A probability distribution defines the likelihood of each possible outcome of a random variable, and the expected value is a way to summarize this distribution into a single, representative number. Specifically, the expected value represents the average outcome you would expect if you repeated the random experiment many times.\n",
        "\n",
        "\n",
        "\n",
        "\n",
        "\n"
      ],
      "metadata": {
        "id": "pIkkGcWHXssT"
      }
    },
    {
      "cell_type": "code",
      "source": [
        "# Q1:  Write a Python program to generate a random variable and display its value ?\n",
        "import random\n",
        "import numpy as np\n",
        "\n",
        "print(\"Discrete Random Integer:\", random.randint(1, 100))\n",
        "print(\"Continuous Random Float (Uniform 0-1):\", np.random.uniform(0, 1))\n",
        "print(\"Normal Random Value (mean=0, std=1):\", np.random.normal(0, 1))"
      ],
      "metadata": {
        "id": "jw7c7uZXh9Ri"
      },
      "execution_count": null,
      "outputs": []
    },
    {
      "cell_type": "code",
      "source": [
        "# Q 2: Generate a discrete uniform distribution using Python and plot the probability mass function (PMF)?\n",
        "import matplotlib.pyplot as plt\n",
        "import numpy as np\n",
        "\n",
        "values = np.arange(1, 7)  # Dice outcomes\n",
        "prob = np.ones_like(values) / len(values)  # Equal probabilities\n",
        "\n",
        "plt.stem(values, prob, use_line_collection=True)\n",
        "plt.title('PMF of Discrete Uniform Distribution (Dice)')\n",
        "plt.xlabel('Value')\n",
        "plt.ylabel('Probability')\n",
        "plt.grid(True)\n",
        "plt.show()"
      ],
      "metadata": {
        "id": "h9aSeXwIjlvt"
      },
      "execution_count": null,
      "outputs": []
    },
    {
      "cell_type": "code",
      "source": [
        "# Q3: Write a Python function to calculate the probability distribution function (PDF) of a Bernoulli distribution ?\n",
        "from scipy.stats import bernoulli\n",
        "import matplotlib.pyplot as plt\n",
        "\n",
        "p = 0.6  # success probability\n",
        "x = [0, 1]\n",
        "pmf = bernoulli.pmf(x, p)\n",
        "\n",
        "plt.bar(x, pmf)\n",
        "plt.title(\"Bernoulli Distribution PMF (p=0.6)\")\n",
        "plt.xlabel(\"x\")\n",
        "plt.ylabel(\"P(X=x)\")\n",
        "plt.show()"
      ],
      "metadata": {
        "id": "ochvpc3ljw7r"
      },
      "execution_count": null,
      "outputs": []
    },
    {
      "cell_type": "code",
      "source": [
        "# Q 4: Write a Python script to simulate a binomial distribution with n=10 and p=0.5, then plot its histogram ?\n",
        "from numpy.random import binomial\n",
        "import matplotlib.pyplot as plt\n",
        "\n",
        "data = binomial(n=10, p=0.5, size=1000)\n",
        "plt.hist(data, bins=11, density=True)\n",
        "plt.title(\"Binomial Distribution (n=10, p=0.5)\")\n",
        "plt.xlabel(\"Number of Successes\")\n",
        "plt.ylabel(\"Frequency\")\n",
        "plt.show()"
      ],
      "metadata": {
        "id": "4nRU5D8sj813"
      },
      "execution_count": null,
      "outputs": []
    },
    {
      "cell_type": "code",
      "source": [
        "# Q 5: Create a Poisson distribution and visualize it using Python>\n",
        "from scipy.stats import poisson\n",
        "import numpy as np\n",
        "import matplotlib.pyplot as plt\n",
        "\n",
        "mu = 3\n",
        "x = np.arange(0, 10)\n",
        "pmf = poisson.pmf(x, mu)\n",
        "\n",
        "plt.stem(x, pmf, use_line_collection=True)\n",
        "plt.title(\"Poisson Distribution (mu=3)\")\n",
        "plt.xlabel(\"x\")\n",
        "plt.ylabel(\"PMF\")\n",
        "plt.show()"
      ],
      "metadata": {
        "id": "SbIpGyiNkRH8"
      },
      "execution_count": null,
      "outputs": []
    },
    {
      "cell_type": "code",
      "source": [
        "# Q 6: Write a Python program to calculate and plot the cumulative distribution function (CDF) of a discrete uniform distribution ?\n",
        "from scipy.stats import randint\n",
        "\n",
        "x = np.arange(1, 8)\n",
        "cdf = randint.cdf(x, 1, 7)\n",
        "\n",
        "plt.step(x, cdf, where='post')\n",
        "plt.title(\"CDF of Discrete Uniform Distribution\")\n",
        "plt.xlabel(\"x\")\n",
        "plt.ylabel(\"CDF\")\n",
        "plt.grid(True)\n",
        "plt.show()"
      ],
      "metadata": {
        "id": "s-wIujuTkbKE"
      },
      "execution_count": null,
      "outputs": []
    },
    {
      "cell_type": "code",
      "source": [
        "# Q 7: Generate a continuous uniform distribution using NumPy and visualize it> ?\n",
        "import numpy as np\n",
        "import matplotlib.pyplot as plt\n",
        "\n",
        "data = np.random.uniform(low=0, high=10, size=1000)\n",
        "plt.hist(data, bins=20, edgecolor='black')\n",
        "plt.title(\"Continuous Uniform Distribution\")\n",
        "plt.xlabel(\"Value\")\n",
        "plt.ylabel(\"Frequency\")\n",
        "plt.show()"
      ],
      "metadata": {
        "id": "WfNsCBo4k6OR"
      },
      "execution_count": null,
      "outputs": []
    },
    {
      "cell_type": "code",
      "source": [
        "# Q 8: Simulate data from a normal distribution and plot its histogram ?\n",
        "\n",
        "data = np.random.normal(loc=0, scale=1, size=1000)\n",
        "plt.hist(data, bins=30, edgecolor='black')\n",
        "plt.title(\"Normal Distribution Histogram\")\n",
        "plt.xlabel(\"Value\")\n",
        "plt.ylabel(\"Frequency\")\n",
        "plt.show()"
      ],
      "metadata": {
        "id": "Z2waf8gqlFAr"
      },
      "execution_count": null,
      "outputs": []
    },
    {
      "cell_type": "code",
      "source": [
        "# Q 9: Write a Python function to calculate Z-scores from a dataset and plot them ?\n",
        "\n",
        "from scipy.stats import zscore\n",
        "import numpy as np\n",
        "import matplotlib.pyplot as plt\n",
        "\n",
        "data = np.random.normal(100, 15, 100)\n",
        "z_scores = zscore(data)\n",
        "\n",
        "plt.plot(z_scores, marker='o', linestyle='none')\n",
        "plt.title(\"Z-Scores of Data\")\n",
        "plt.xlabel(\"Index\")\n",
        "plt.ylabel(\"Z-score\")\n",
        "plt.grid(True)\n",
        "plt.show()\n"
      ],
      "metadata": {
        "id": "o2YKD2UUlTL2"
      },
      "execution_count": null,
      "outputs": []
    },
    {
      "cell_type": "code",
      "source": [
        "# Q 10: Implement the Central Limit Theorem (CLT) using Python for a non-normal distribution ?\n",
        "data = np.random.exponential(scale=2, size=10000)\n",
        "sample_means = [np.mean(np.random.choice(data, 30)) for _ in range(1000)]\n",
        "\n",
        "plt.hist(sample_means, bins=30)\n",
        "plt.title(\"Central Limit Theorem Demonstration\")\n",
        "plt.xlabel(\"Sample Mean\")\n",
        "plt.ylabel(\"Frequency\")\n",
        "plt.show()"
      ],
      "metadata": {
        "id": "NsYEr39tlmp8"
      },
      "execution_count": null,
      "outputs": []
    },
    {
      "cell_type": "code",
      "source": [
        "# Q 11: Simulate multiple samples from a normal distribution and verify the Central Limit Theorem ?\n",
        "\n",
        "sample_means = []\n",
        "for _ in range(1000):\n",
        "    sample = np.random.normal(loc=10, scale=5, size=50)\n",
        "    sample_means.append(np.mean(sample))\n",
        "\n",
        "plt.hist(sample_means, bins=30)\n",
        "plt.title(\"Multiple Samples CLT Verification\")\n",
        "plt.show()"
      ],
      "metadata": {
        "id": "aBIXd_fQl1xh"
      },
      "execution_count": null,
      "outputs": []
    },
    {
      "cell_type": "code",
      "source": [
        "# Q 12: Write a Python function to calculate and plot the standard normal distribution (mean = 0, std = 1) ?\n",
        "from scipy.stats import norm\n",
        "import numpy as np\n",
        "import matplotlib.pyplot as plt\n",
        "\n",
        "x = np.linspace(-4, 4, 100)\n",
        "pdf = norm.pdf(x)\n",
        "\n",
        "plt.plot(x, pdf)\n",
        "plt.title(\"Standard Normal Distribution\")\n",
        "plt.xlabel(\"x\")\n",
        "plt.ylabel(\"PDF\")\n",
        "plt.grid(True)\n",
        "plt.show()\n"
      ],
      "metadata": {
        "id": "-7CGAfSeqDDH"
      },
      "execution_count": null,
      "outputs": []
    },
    {
      "cell_type": "code",
      "source": [
        "# Q 13: Generate random variables and calculate their corresponding probabilities using the binomial distribution ?\n",
        "\n",
        "from scipy.stats import binom\n",
        "\n",
        "n, p = 10, 0.5\n",
        "x = np.arange(0, 11)\n",
        "pmf = binom.pmf(x, n, p)\n",
        "\n",
        "for i in range(len(x)):\n",
        "    print(f\"P(X={x[i]}) = {pmf[i]:.4f}\")\n"
      ],
      "metadata": {
        "id": "Eu81YThvqasq"
      },
      "execution_count": null,
      "outputs": []
    },
    {
      "cell_type": "code",
      "source": [
        "# Q 14: Write a Python program to calculate the Z-score for a given data point and compare it to a standard normal distribution ?\n",
        "\n",
        "x = 85\n",
        "mean = 80\n",
        "std = 10\n",
        "\n",
        "z = (x - mean) / std\n",
        "print(\"Z-score:\", z)"
      ],
      "metadata": {
        "id": "GSk2rY4nqrp6"
      },
      "execution_count": null,
      "outputs": []
    },
    {
      "cell_type": "code",
      "source": [
        "# Q 15: Implement hypothesis testing using Z-statistics for a sample dataset ?\n",
        "\n",
        "from scipy.stats import norm\n",
        "\n",
        "sample_mean = 105\n",
        "population_mean = 100\n",
        "std_dev = 15\n",
        "n = 36\n",
        "\n",
        "z = (sample_mean - population_mean) / (std_dev / np.sqrt(n))\n",
        "p_value = 1 - norm.cdf(z)\n",
        "\n",
        "print(\"Z-statistic:\", z)\n",
        "print(\"P-value:\", p_value)"
      ],
      "metadata": {
        "id": "y41ZenSYrDRB"
      },
      "execution_count": null,
      "outputs": []
    },
    {
      "cell_type": "code",
      "source": [
        "# Q 16: Create a confidence interval for a dataset using Python and interpret the result ?\n",
        "\n",
        "import scipy.stats as stats\n",
        "\n",
        "data = np.random.normal(50, 10, 100)\n",
        "mean = np.mean(data)\n",
        "sem = stats.sem(data)\n",
        "ci = stats.t.interval(0.95, len(data)-1, loc=mean, scale=sem)\n",
        "\n",
        "print(\"95% Confidence Interval:\", ci)"
      ],
      "metadata": {
        "id": "UHM4ELcirR2X"
      },
      "execution_count": null,
      "outputs": []
    },
    {
      "cell_type": "code",
      "source": [
        "# Q 17: Generate data from a normal distribution, then calculate and interpret the confidence interval for its mean ?\n",
        "\n",
        "data = np.random.normal(100, 20, 50)\n",
        "mean = np.mean(data)\n",
        "sem = stats.sem(data)\n",
        "ci = stats.t.interval(0.95, len(data)-1, loc=mean, scale=sem)\n",
        "\n",
        "print(\"CI for mean of normal data:\", ci)"
      ],
      "metadata": {
        "id": "a1I27vStrzLi"
      },
      "execution_count": null,
      "outputs": []
    },
    {
      "cell_type": "code",
      "source": [
        "# Q 18: Write a Python script to calculate and visualize the probability density function (PDF) of a normal distribution ?\n",
        "\n",
        "x = np.linspace(-4, 4, 100)\n",
        "pdf = norm.pdf(x, loc=0, scale=1)\n",
        "\n",
        "plt.plot(x, pdf)\n",
        "plt.title(\"Normal Distribution PDF\")\n",
        "plt.grid(True)\n",
        "plt.show()"
      ],
      "metadata": {
        "id": "w-BKRC5wr9OO"
      },
      "execution_count": null,
      "outputs": []
    },
    {
      "cell_type": "code",
      "source": [
        "# Q 19: Use Python to calculate and interpret the cumulative distribution function (CDF) of a Poisson distribution ?\n",
        "\n",
        "x = np.arange(0, 11)\n",
        "cdf = poisson.cdf(x, mu=3)\n",
        "\n",
        "plt.step(x, cdf, where='post')\n",
        "plt.title(\"CDF of Poisson Distribution\")\n",
        "plt.show()"
      ],
      "metadata": {
        "id": "Ew5RGueysKLc"
      },
      "execution_count": null,
      "outputs": []
    },
    {
      "cell_type": "code",
      "source": [
        "# Q 20: Simulate a random variable using a continuous uniform distribution and calculate its expected value ?\n",
        "\n",
        "data = np.random.uniform(0, 10, 10000)\n",
        "expected_value = np.mean(data)\n",
        "print(\"Expected Value (Uniform):\", expected_value)"
      ],
      "metadata": {
        "id": "hN_ICn8VsZin"
      },
      "execution_count": null,
      "outputs": []
    },
    {
      "cell_type": "code",
      "source": [
        "# Q 21:  Write a Python program to compare the standard deviations of two datasets and visualize the difference ?\n",
        "\n",
        "data1 = np.random.normal(100, 10, 100)\n",
        "data2 = np.random.normal(100, 20, 100)\n",
        "\n",
        "plt.hist(data1, bins=20, alpha=0.5, label=\"SD=10\")\n",
        "plt.hist(data2, bins=20, alpha=0.5, label=\"SD=20\")\n",
        "plt.legend()\n",
        "plt.title(\"Comparison of Standard Deviations\")\n",
        "plt.show()"
      ],
      "metadata": {
        "id": "Tw64Ad_ZssXS"
      },
      "execution_count": null,
      "outputs": []
    },
    {
      "cell_type": "code",
      "source": [
        "# Q 22: Calculate the range and interquartile range (IQR) of a dataset generated from a normal distribution ?\n",
        "\n",
        "import numpy as np\n",
        "\n",
        "data = np.random.normal(0, 1, 1000)\n",
        "data_range = np.max(data) - np.min(data)\n",
        "iqr = np.percentile(data, 75) - np.percentile(data, 25)\n",
        "\n",
        "print(\"Range:\", data_range)\n",
        "print(\"IQR:\", iqr)"
      ],
      "metadata": {
        "id": "O__MHS7NsyUK"
      },
      "execution_count": null,
      "outputs": []
    },
    {
      "cell_type": "code",
      "source": [
        "# Q 23:  Implement Z-score normalization on a dataset and visualize its transformation ?\n",
        "\n",
        "data = np.random.normal(100, 20, 100)\n",
        "z_data = zscore(data)\n",
        "\n",
        "plt.hist(z_data, bins=20)\n",
        "plt.title(\"Z-score Normalized Data\")\n",
        "plt.show()"
      ],
      "metadata": {
        "id": "o9a5-fwItaN7"
      },
      "execution_count": null,
      "outputs": []
    },
    {
      "cell_type": "code",
      "source": [
        " # Q 24: Write a Python function to calculate the skewness and kurtosis of a dataset generated from a normal distribution.?\n",
        "\n",
        "from scipy.stats import skew, kurtosis\n",
        "\n",
        "data = np.random.normal(0, 1, 1000)\n",
        "\n",
        "print(\"Skewness:\", skew(data))\n",
        "print(\"Kurtosis:\", kurtosis(data))"
      ],
      "metadata": {
        "id": "3CXGwm4Ytth-"
      },
      "execution_count": null,
      "outputs": []
    }
  ]
}